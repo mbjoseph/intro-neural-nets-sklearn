{
 "cells": [
  {
   "cell_type": "markdown",
   "metadata": {
    "slideshow": {
     "slide_type": "slide"
    }
   },
   "source": [
    "# Introduction to neural networks\n",
    "\n",
    "Max Joseph\n",
    "\n",
    "<span style=\"color:blue\">maxwell.b.joseph@colorado.edu</span>\n",
    "\n",
    "Data scientist\n",
    "\n",
    "Earth Lab Analytics Hub, CU Boulder\n",
    "\n",
    "https://github.com/mbjoseph/intro-neural-nets-sklearn\n",
    "\n",
    "![](https://earthdatascience.org/images/earth_sm.png)"
   ]
  },
  {
   "cell_type": "markdown",
   "metadata": {
    "slideshow": {
     "slide_type": "slide"
    }
   },
   "source": [
    "# General use case\n",
    "\n",
    "Predict $y$ given input $X$\n",
    "\n",
    "$y = f(X)$, with $f$ unknown"
   ]
  },
  {
   "cell_type": "markdown",
   "metadata": {
    "slideshow": {
     "slide_type": "slide"
    }
   },
   "source": [
    "# Labeling entire images\n",
    "\n",
    "![](https://upload.wikimedia.org/wikipedia/commons/thumb/3/33/Spielendes_K%C3%A4tzchen.JPG/1280px-Spielendes_K%C3%A4tzchen.JPG)"
   ]
  },
  {
   "cell_type": "markdown",
   "metadata": {
    "slideshow": {
     "slide_type": "slide"
    }
   },
   "source": [
    "# Image segmentation\n",
    "\n",
    "![](http://brainiac2.mit.edu/isbi_challenge/sites/default/files/Challenge-ISBI-2012-sample-image.png)"
   ]
  },
  {
   "cell_type": "markdown",
   "metadata": {
    "slideshow": {
     "slide_type": "slide"
    }
   },
   "source": [
    "# Object detection\n",
    "\n",
    "![](http://cvrs.whu.edu.cn/uploadfile/2015/0214/20150214085822572.jpg)"
   ]
  },
  {
   "cell_type": "markdown",
   "metadata": {
    "slideshow": {
     "slide_type": "slide"
    }
   },
   "source": [
    "# Pose estimation\n",
    "\n",
    "![](http://www.stat.ucla.edu/~xianjie.chen/projects/pose_estimation/figs/leeds_flic_examples.png)"
   ]
  },
  {
   "cell_type": "markdown",
   "metadata": {
    "slideshow": {
     "slide_type": "slide"
    }
   },
   "source": [
    "# Depth estimation\n",
    "\n",
    "![](https://camo.githubusercontent.com/eaee1af707b9ad2b2ac3b5be87de82fc590800d2/687474703a2f2f63616d7061722e696e2e74756d2e64652f66696c65732f7275707072656368742f6465707468707265642f696d616765732e6a7067)"
   ]
  },
  {
   "cell_type": "markdown",
   "metadata": {
    "slideshow": {
     "slide_type": "slide"
    }
   },
   "source": [
    "# Automated face swapping\n",
    "\n",
    "![](https://pbs.twimg.com/media/Cygif7UWgAAAD-V.jpg)"
   ]
  },
  {
   "cell_type": "markdown",
   "metadata": {
    "slideshow": {
     "slide_type": "slide"
    }
   },
   "source": [
    "# Today: the multilayer perceptron\n",
    "\n",
    "![](fig/bishop-5-1.png)"
   ]
  },
  {
   "cell_type": "markdown",
   "metadata": {
    "slideshow": {
     "slide_type": "slide"
    }
   },
   "source": [
    "# Input variables $x_1, x_2, ..., x_D$\n",
    "\n",
    "aka\n",
    "\n",
    "- features\n",
    "- explanatory variables\n",
    "- covariates\n"
   ]
  },
  {
   "cell_type": "markdown",
   "metadata": {
    "slideshow": {
     "slide_type": "slide"
    }
   },
   "source": [
    "# Mapping input variables to a hidden layer activation\n",
    "\n",
    "$$a_j = \\color{red}{\\sum_{i = 1}^D w_{ji}^{(1)} x_i} + \\color{blue} {w_{j0}^{(1)}}$$\n",
    "\n",
    "activations for hidden units $j=1, ..., M$ in the first hidden layer $(1)$"
   ]
  },
  {
   "cell_type": "markdown",
   "metadata": {
    "slideshow": {
     "slide_type": "slide"
    }
   },
   "source": [
    "# Activation of the $j^{th}$ hidden unit\n",
    "\n",
    "$$a_j = \\color{red}{\\sum_{i = 1}^D w_{ji}^{(1)} x_i} + \\color{blue} {w_{j0}^{(1)}}$$\n",
    "\n",
    "### Response of hidden unit $j$ to input $i$: $\\color{red}{w_{ji}^{(1)} x_i}$\n"
   ]
  },
  {
   "cell_type": "markdown",
   "metadata": {
    "slideshow": {
     "slide_type": "slide"
    }
   },
   "source": [
    "# Activation of the $j^{th}$ hidden unit\n",
    "\n",
    "$$a_j = \\color{red}{\\sum_{i = 1}^D w_{ji}^{(1)} x_i} + \\color{blue} {w_{j0}^{(1)}}$$\n",
    "\n",
    "### Response of hidden unit $j$ to input $i$: $\\color{red}{w_{ji}^{(1)} x_i}$\n",
    "\n",
    "### Total effect of inputs on hidden unit $j$: $\\color{red}{\\sum_{i = 1}^D w_{ji}^{(1)} x_i}$\n"
   ]
  },
  {
   "cell_type": "markdown",
   "metadata": {
    "slideshow": {
     "slide_type": "slide"
    }
   },
   "source": [
    "# Activation of the $j^{th}$ hidden unit\n",
    "\n",
    "$$a_j = \\color{red}{\\sum_{i = 1}^D w_{ji}^{(1)} x_i} + \\color{blue} {w_{j0}^{(1)}}$$\n",
    "\n",
    "### Response of hidden unit $j$ to input $i$: $\\color{red}{w_{ji}^{(1)} x_i}$\n",
    "\n",
    "### Total effect of inputs on hidden unit $j$: $\\color{red}{\\sum_{i = 1}^D w_{ji}^{(1)} x_i}$\n",
    "\n",
    "### Bias parameter: $\\color{blue} {w_{j0}^{(1)}}$"
   ]
  },
  {
   "cell_type": "markdown",
   "metadata": {
    "slideshow": {
     "slide_type": "slide"
    }
   },
   "source": [
    "\n",
    "# Nonlinear activation function $h(.)$\n",
    "\n",
    "$$z_j = h(a_j)$$\n",
    "\n",
    "for $j = 1, ..., M$\n",
    "\n",
    "Allows for complex, non-linear combinations of the inputs"
   ]
  },
  {
   "cell_type": "markdown",
   "metadata": {
    "slideshow": {
     "slide_type": "slide"
    }
   },
   "source": [
    "# Activation functions\n",
    "\n",
    "Must be **differentiable** and **nonlinear**\n",
    "\n",
    "e.g., \n",
    "\n",
    "## Rectified linear unit (ReLU)\n",
    "\n",
    "$h(a) =  a$ for $a > 0$, \n",
    "otherwise $h(a)=0$"
   ]
  },
  {
   "cell_type": "code",
   "execution_count": 1,
   "metadata": {
    "slideshow": {
     "slide_type": "slide"
    }
   },
   "outputs": [
    {
     "data": {
      "image/png": "[encoded data removed]",
      "text/plain": [
       "<matplotlib.figure.Figure at 0x7f87c82b9048>"
      ]
     },
     "metadata": {},
     "output_type": "display_data"
    }
   ],
   "source": [
    "import numpy as np\n",
    "import matplotlib.pyplot as plt\n",
    "plt.style.use('ggplot')\n",
    "\n",
    "def relu(x):\n",
    "    return np.where(x > 0, x, 0)\n",
    "\n",
    "x = np.linspace(-5, 5)\n",
    "plt.plot(x, relu(x))\n",
    "plt.xlabel(\"a\")\n",
    "plt.ylabel(\"ReLU(a)\")\n",
    "plt.show()"
   ]
  },
  {
   "cell_type": "markdown",
   "metadata": {
    "slideshow": {
     "slide_type": "slide"
    }
   },
   "source": [
    "# Hyperbolic tangent\n",
    "\n",
    "$$h(a) = tanh(a)$$"
   ]
  },
  {
   "cell_type": "code",
   "execution_count": 5,
   "metadata": {
    "slideshow": {
     "slide_type": "subslide"
    }
   },
   "outputs": [
    {
     "data": {
      "image/png": "[encoded data removed]",
      "text/plain": [
       "<matplotlib.figure.Figure at 0x7f879cbbb668>"
      ]
     },
     "metadata": {},
     "output_type": "display_data"
    }
   ],
   "source": [
    "plt.plot(x, np.tanh(x))\n",
    "plt.xlabel(\"a\")\n",
    "plt.ylabel(\"tanh(a)\")\n",
    "plt.show()"
   ]
  },
  {
   "cell_type": "markdown",
   "metadata": {
    "slideshow": {
     "slide_type": "slide"
    }
   },
   "source": [
    "# We have our hidden layer, now what? \n",
    "\n",
    "$z_j = h(\\sum_{i = 1}^D w_{ji}^{(1)} x_i + w_{j0}^{(1)})$\n",
    "\n",
    "![](fig/bishop-5-1.png)"
   ]
  },
  {
   "cell_type": "markdown",
   "metadata": {
    "slideshow": {
     "slide_type": "slide"
    }
   },
   "source": [
    "# From hidden layer to output activation\n",
    "\n",
    "We need a way to map $z$ to a prediction\n",
    "\n",
    "Activations of output unit $k = 1, ..., K$:\n",
    "\n",
    "$$a_k = \\sum_{j = 1}^{M} w_{kj}^{(2)} z_j + w_{k0}^{(2)}$$\n"
   ]
  },
  {
   "cell_type": "markdown",
   "metadata": {
    "slideshow": {
     "slide_type": "slide"
    }
   },
   "source": [
    "# Computing outputs from output activations\n",
    "\n",
    "\n",
    "### $a_k \\rightarrow$ network outputs: $y_k = g(a_k)$\n",
    "\n",
    "where $g(a)$ is an activation function"
   ]
  },
  {
   "cell_type": "markdown",
   "metadata": {
    "slideshow": {
     "slide_type": "slide"
    }
   },
   "source": [
    "# Output activation functions\n",
    "\n",
    "## Regression\n",
    "\n",
    "$y$ is unbounded\n",
    "\n",
    "$\\rightarrow$ $g(a)$ is the identity function\n",
    "\n",
    "$$g(a) = a$$"
   ]
  },
  {
   "cell_type": "code",
   "execution_count": 2,
   "metadata": {
    "slideshow": {
     "slide_type": "fragment"
    }
   },
   "outputs": [
    {
     "data": {
      "image/png": "[encoded data removed]",
      "text/plain": [
       "<matplotlib.figure.Figure at 0x7f87c832f6a0>"
      ]
     },
     "metadata": {},
     "output_type": "display_data"
    }
   ],
   "source": [
    "plt.plot(x, x)\n",
    "plt.xlabel(\"a\")\n",
    "plt.ylabel(\"g(a)\")\n",
    "plt.show()"
   ]
  },
  {
   "cell_type": "markdown",
   "metadata": {
    "slideshow": {
     "slide_type": "slide"
    }
   },
   "source": [
    "## Binary classification\n",
    "\n",
    "$y$ is either $0$ or $1$\n",
    "\n",
    "$\\rightarrow$ $g(a)$ is the sigmoid or inverse logit function\n",
    "\n",
    "$$g(a) = \\dfrac{1}{1 + \\exp(-a)}$$\n"
   ]
  },
  {
   "cell_type": "code",
   "execution_count": 3,
   "metadata": {
    "slideshow": {
     "slide_type": "fragment"
    }
   },
   "outputs": [
    {
     "data": {
      "image/png": "[encoded data removed]",
      "text/plain": [
       "<matplotlib.figure.Figure at 0x7f879cc95898>"
      ]
     },
     "metadata": {},
     "output_type": "display_data"
    }
   ],
   "source": [
    "def sigmoid(a):\n",
    "    return 1 / (1 + np.exp(-a))\n",
    "\n",
    "\n",
    "plt.plot(x, sigmoid(x))\n",
    "plt.xlabel(\"a\")\n",
    "plt.ylabel(\"g(a)\")\n",
    "plt.show()"
   ]
  },
  {
   "cell_type": "markdown",
   "metadata": {
    "slideshow": {
     "slide_type": "slide"
    }
   },
   "source": [
    "## Multi-class classification\n",
    "\n",
    "$y$ is a member of the set $[0, 1, ..., K]$\n",
    "\n",
    "$\\rightarrow$ $g(a)$ is the softmax function\n",
    "\n",
    "- returns probability of each class\n",
    "- guarantees that these probabilities sum to one\n",
    "\n",
    "$$g(a_k) = \\dfrac{\\exp(a_k)}{\\sum_{j} \\exp(a_j)}$$\n"
   ]
  },
  {
   "cell_type": "code",
   "execution_count": 4,
   "metadata": {
    "slideshow": {
     "slide_type": "fragment"
    }
   },
   "outputs": [
    {
     "name": "stdout",
     "output_type": "stream",
     "text": [
      "Activations: [-1, 2, 3, 0]\n",
      "Probabilities: [ 0.01275478  0.25618664  0.69638749  0.03467109]\n",
      "Sum of probabilities: 1.0\n"
     ]
    }
   ],
   "source": [
    "def softmax(a):\n",
    "    denom = np.sum(np.exp(a))\n",
    "    return np.exp(a) / denom\n",
    "\n",
    "a = [-1, 2, 3, 0]\n",
    "probs = softmax(a)\n",
    "\n",
    "print(\"Activations: {}\".format(a))\n",
    "print(\"Probabilities: {}\".format(probs))\n",
    "print(\"Sum of probabilities: {}\".format(np.sum(probs)))"
   ]
  },
  {
   "cell_type": "markdown",
   "metadata": {
    "slideshow": {
     "slide_type": "slide"
    }
   },
   "source": [
    "# Review\n",
    "\n",
    "1. Start with inputs $x_1, ..., x_D$\n",
    "1. Compute activations of hidden layer $a_1, ..., a_M$\n",
    "1. Apply non-linear activation function to compute $z_1, ..., z_M$\n",
    "1. Use hidden layer to compute network outputs $y_1, ..., y_K$\n",
    "\n",
    "\n",
    "### This is forward propagation"
   ]
  },
  {
   "cell_type": "markdown",
   "metadata": {
    "slideshow": {
     "slide_type": "slide"
    }
   },
   "source": [
    "# How to choose good values for weights?\n",
    "\n",
    "![](fig/bishop-5-1.png)"
   ]
  },
  {
   "cell_type": "markdown",
   "metadata": {
    "slideshow": {
     "slide_type": "slide"
    }
   },
   "source": [
    "# Training your neural network\n",
    "\n",
    "We have **target data** (our observed responses, class labels, etc.):\n",
    "\n",
    "$$\\pmb t = \\{t_1, ..., t_N\\}$$\n",
    "\n",
    "And we want to maximize the probability of the data, given the parameters\n",
    "\n",
    "$$p(t_1, t_2, ..., t_N \\mid w)$$\n",
    "\n",
    "- this is the **likelihood function**"
   ]
  },
  {
   "cell_type": "markdown",
   "metadata": {
    "slideshow": {
     "slide_type": "slide"
    }
   },
   "source": [
    "# Assumptions\n",
    "\n",
    "### Independence\n",
    "\n",
    "Observations $i = 1, ..., N$ are conditionally independent such that \n",
    "\n",
    "$$p(t_1, t_2, ..., t_N \\mid w) = \\prod_{n = 1}^N p(t_n \\mid w)$$\n",
    "\n",
    "### Choosing $p(t_n \\mid w)$\n",
    "\n",
    "- Unbounded real-valued targets: **Normal** (Gaussian) likelihood\n",
    "- Binary classification: **Binomial** likelihood\n",
    "- Multi-class classification: **Multinomial** likelihood\n"
   ]
  },
  {
   "cell_type": "markdown",
   "metadata": {
    "slideshow": {
     "slide_type": "slide"
    }
   },
   "source": [
    "# Network training: minimizing an error fuction\n",
    "\n",
    "We start by choosing a **likelihood** to *maximize*.\n",
    "\n",
    "But we typically *minimize* the negative log likelihood **error function**, or something proportional to it.\n",
    "\n",
    "e.g., for a Normal distribution we minimize the **mean squared error** function\n",
    "\n",
    "$$\\text{Error}(w) = \\frac{1}{2} \\sum_{n = 1}^N (y_n - t_n)^2$$"
   ]
  },
  {
   "cell_type": "markdown",
   "metadata": {
    "slideshow": {
     "slide_type": "slide"
    }
   },
   "source": [
    "# Error functions are non-convex and high-dimensional\n",
    "\n",
    "![](https://qph.ec.quoracdn.net/main-qimg-abfbe698dd41306dc2691e8d0c3182a0)"
   ]
  },
  {
   "cell_type": "markdown",
   "metadata": {
    "slideshow": {
     "slide_type": "slide"
    }
   },
   "source": [
    "# Gradient based optimization\n",
    "\n",
    "Start by randomly initializing weight values\n",
    "\n",
    "Iteratively,\n",
    "\n",
    "1. Forward propagate the model to make predictions\n",
    "1. Compute the error function $E(w)$\n",
    "1. **Change the weight values to reduce $E(w)$**"
   ]
  },
  {
   "cell_type": "markdown",
   "metadata": {
    "slideshow": {
     "slide_type": "slide"
    }
   },
   "source": [
    "# How to update weights?\n",
    "\n",
    "## Gradient descent at step $\\tau$\n",
    "\n",
    "$w^{(\\tau + 1)} = w^{(\\tau)} - \\eta \\nabla_w E(w^{(\\tau)})$\n",
    "\n",
    "where \n",
    "\n",
    "$\\eta$: a \"learning rate\" or step-size parameter\n",
    "\n",
    "$\\nabla_w E(w^{(\\tau)})$: gradient of the error function $\\big( \\frac{\\partial E}{\\partial w_1}, \\frac{\\partial E}{\\partial w_2}, \\frac{\\partial E}{\\partial w_3}, ... \\big)$*\n",
    "\n",
    "\n",
    "\\* *To see how to compute these gradients, see section 5.3 in Bishop (2011)*"
   ]
  },
  {
   "cell_type": "markdown",
   "metadata": {
    "collapsed": true,
    "slideshow": {
     "slide_type": "slide"
    }
   },
   "source": [
    "# Flavors of gradient descent\n",
    "\n",
    "### Stochastic\n",
    "\n",
    "Weights updated **one data point at a time**\n",
    "\n",
    "### Mini-batch\n",
    "\n",
    "Weights updated for **small batches of data points**\n",
    "\n",
    "### Batch\n",
    "\n",
    "Weights updated based on gradient of **all the data simultaneously**\n",
    "\n",
    "![](https://i.stack.imgur.com/lU3sx.png)"
   ]
  },
  {
   "cell_type": "markdown",
   "metadata": {
    "slideshow": {
     "slide_type": "slide"
    }
   },
   "source": [
    "# General advice\n",
    "\n",
    "For large datasets, **use minibatches**!\n",
    "\n",
    "- less memory required\n",
    "- faster network training\n",
    "- better chance of escaping a local minimum"
   ]
  },
  {
   "cell_type": "markdown",
   "metadata": {
    "slideshow": {
     "slide_type": "slide"
    }
   },
   "source": [
    "# Fancy gradient descent\n",
    "\n",
    "### Extensions:\n",
    "\n",
    "- momentum\n",
    "- tunable parameter-specific learning rates\n",
    "\n",
    "![](https://i.imgur.com/NKsFHJb.gif)"
   ]
  },
  {
   "cell_type": "markdown",
   "metadata": {
    "slideshow": {
     "slide_type": "slide"
    }
   },
   "source": [
    "# Review: training your network\n",
    "\n",
    "Randomly initialize weights\n",
    "\n",
    "Iteratively,\n",
    "\n",
    "1. Forward propagate\n",
    "1. Compute $E(w)$\n",
    "1. Update weights to reduce $E(w)$"
   ]
  },
  {
   "cell_type": "markdown",
   "metadata": {
    "slideshow": {
     "slide_type": "slide"
    }
   },
   "source": [
    "# Implementations\n",
    "\n",
    "### Today: \n",
    "\n",
    "![](http://www.scipy-lectures.org/_images/scikit-learn-logo.png)\n"
   ]
  },
  {
   "cell_type": "markdown",
   "metadata": {
    "slideshow": {
     "slide_type": "slide"
    }
   },
   "source": [
    "# Some more advanced ML frameworks\n",
    "\n",
    "### Tensorflow\n",
    "\n",
    "- Graph-based\n",
    "- Very common\n",
    "- Not very Pythonic\n",
    "\n",
    "\n",
    "### Pytorch\n",
    "\n",
    "- Very pythonic\n",
    "- Flexible\n",
    "- Great for ML research\n",
    "\n",
    "\n",
    "\n",
    "### Keras\n",
    "\n",
    "- Higher level of abstraction\n",
    "- Multiple backends (Tensorflow, CNTK, Theano)\n",
    "\n"
   ]
  },
  {
   "cell_type": "markdown",
   "metadata": {
    "slideshow": {
     "slide_type": "slide"
    }
   },
   "source": [
    "# Rest of class\n",
    "\n",
    "### 1. In-class lab\n",
    "\n",
    "https://github.com/mbjoseph/intro-neural-nets-sklearn\n",
    "\n",
    "Jupyter notebook: `nn-lab.ipynb`\n",
    "\n",
    "\n",
    "\n",
    "### 2. Neural network playground\n",
    "\n",
    "http://playground.tensorflow.org/\n",
    "\n",
    "Build some intuition! \n",
    "\n",
    "#### Things to change:\n",
    "\n",
    "- \\# of hidden layers\n",
    "- \\# of neurons in hidden layers\n",
    "- datasets\n",
    "- learning rate\n",
    "- batch size\n"
   ]
  }
 ],
 "metadata": {
  "celltoolbar": "Slideshow",
  "kernelspec": {
   "display_name": "Python 3",
   "language": "python",
   "name": "python3"
  },
  "language_info": {
   "codemirror_mode": {
    "name": "ipython",
    "version": 3
   },
   "file_extension": ".py",
   "mimetype": "text/x-python",
   "name": "python",
   "nbconvert_exporter": "python",
   "pygments_lexer": "ipython3",
   "version": "3.6.1"
  }
 },
 "nbformat": 4,
 "nbformat_minor": 2
}
